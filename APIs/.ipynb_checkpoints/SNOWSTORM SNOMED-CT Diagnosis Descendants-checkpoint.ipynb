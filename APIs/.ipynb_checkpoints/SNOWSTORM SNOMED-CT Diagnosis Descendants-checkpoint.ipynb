{
 "cells": [
  {
   "cell_type": "markdown",
   "id": "feb2314d",
   "metadata": {},
   "source": [
    "# Note\n",
    "It is not recommended to use this script. SNOWSTORM has a limited number of calls it allows each day.  It is recommended you use the UMLS API search.\n",
    "\n",
    "# SNOMED-CT Diagnosis Quick Pull \n",
    "This document will pull all the descendants of a given parent concept(s) and export them as an excel file.\n",
    "\n",
    "- \"Excel_Sheet_Name\" \n",
    "    - outputs each parent:child relation into two columns: \"Name\" and \"SNOMED-CT Code\" and filters for repeats between multiple parent inputs. This means if the two parents you are looking up are 'Pneumonitis (disorder)' and 'Pnuemonia (disorder)', all the overlaps between 'Pneumonitis (disorder)' and 'Pnuemonia (disorder)' will be removed from the final excel sheet.  \n",
    "\n",
    "## Notes and Limitations  \n",
    "- If you do not change the Excel_Sheet_Name variable and attempt to run the code again, the code will rewrite your existing file with the parent_code variables\n",
    "\n",
    "## Common Errors\n",
    "- If you recieve a KeyError when calling the data (running the large loop code), check your parent_code variable's structure.  \n",
    "    - This error is most likely due to an error in how the values are inputted into the parent_code variable\n",
    "    - If the error persists, add each parent:code pair individually and try calling the data (running the large loop code).  This will narrow down which parent:code pair is causing the issue or help identify any syntax issues with the parent_code variable. \n",
    "    - If one parent:code is causing the error to continue, I recommend trying to pull for just that parent:code, searching an adjacent parent:code that includes the originally desired parent:code, or manually pulling the codes from the SNOMED-CT browser. \n",
    "    \n",
    "## Steps to Use: \n",
    "1. Change the parent_code dictionary to reflect the data you want to pull.\n",
    "    - **IMPORTANT:** Do not change variable names and keep the data in the dictionary format (parent_code = {\"Parent name 1\": 123456, \"Parent name 2\": 456789, ...})\n",
    "2. Change the Excel_Sheet_Name string to reflect the name you want the outputted Excel Sheet to be named. \n",
    "3. Run sheet using the double triangle selection tool in the toolbar, located between and below the \"Kernel\" and \"Widgets\"\n",
    "4. Click \"restart and run all cells\" \n",
    "       "
   ]
  },
  {
   "cell_type": "code",
   "execution_count": 1,
   "id": "b5fe9263",
   "metadata": {},
   "outputs": [],
   "source": [
    "import pandas as pd\n",
    "import numpy as np\n",
    "import json\n",
    "import requests"
   ]
  },
  {
   "cell_type": "code",
   "execution_count": 2,
   "id": "c1267de6",
   "metadata": {},
   "outputs": [],
   "source": [
    "# CHANGE THE CODES HERE: \n",
    "parent_code = {\"Oxygen therapy (procedure)\":57485005}\n",
    "\n",
    "## WHAT DO YOU WANT YOUR EXCEL SHEET NAMED? ##\n",
    "Excel_Sheet_Name = \"ILD\""
   ]
  },
  {
   "cell_type": "code",
   "execution_count": 3,
   "id": "e498de4a",
   "metadata": {},
   "outputs": [],
   "source": [
    "#### DO NOT CHANGE BELOW THIS LINE ####\n",
    "\n",
    "empty_pd_formatted = pd.DataFrame()\n",
    "test_codes = []\n",
    "test_values = []\n",
    "    \n",
    "for key in parent_code: \n",
    "# This collects the JSON for each value in parent_code \n",
    "    URL = f\"https://snowstorm-training.snomedtools.org/fhir/ValueSet/$expand?url=http://snomed.info/sct?fhir_vs=ecl/<<{parent_code[key]}\"\n",
    "    response = requests.get(URL)\n",
    "    variable = response.json()\n",
    "\n",
    "    for code in np.arange(0, len(variable[\"expansion\"][\"contains\"]), 1):\n",
    "        codes = variable[\"expansion\"][\"contains\"][code][\"code\"]\n",
    "        test_codes.append(codes)\n",
    "\n",
    "    for code in np.arange(0, len(variable[\"expansion\"][\"contains\"]), 1):\n",
    "        name = variable[\"expansion\"][\"contains\"][code][\"display\"]\n",
    "        test_values.append(name)  \n",
    "        \n",
    "# This is where the dataframe stores the previous pandas dataframe iterations     \n",
    "new_new_row = pd.DataFrame({\"Name\": test_values, \"SNOMED-CT Code\": test_codes})\n",
    "empty_pd_new = pd.concat([new_new_row, empty_pd_formatted.loc[:]]).reset_index(drop=True)\n",
    "    \n",
    "empty_pd_new_no_duplicates = empty_pd_new.drop_duplicates(keep=\"first\")\n",
    "\n",
    "#### DO NOT CHANGE ABOVE THIS LINE #### "
   ]
  },
  {
   "cell_type": "code",
   "execution_count": 4,
   "id": "cd06471b",
   "metadata": {},
   "outputs": [],
   "source": [
    "#### DO NOT CHANGE BELOW THIS LINE ####\n",
    "\n",
    "excel_name = f'{Excel_Sheet_Name}' + \".xlsx\"\n",
    "\n",
    "empty_pd_new_no_duplicates.to_excel(excel_name)\n",
    "\n",
    "#### DO NOT CHANGE ABOVE THIS LINE ####"
   ]
  },
  {
   "cell_type": "code",
   "execution_count": null,
   "id": "ee002d03",
   "metadata": {},
   "outputs": [],
   "source": []
  }
 ],
 "metadata": {
  "kernelspec": {
   "display_name": "Python 3 (ipykernel)",
   "language": "python",
   "name": "python3"
  },
  "language_info": {
   "codemirror_mode": {
    "name": "ipython",
    "version": 3
   },
   "file_extension": ".py",
   "mimetype": "text/x-python",
   "name": "python",
   "nbconvert_exporter": "python",
   "pygments_lexer": "ipython3",
   "version": "3.9.12"
  }
 },
 "nbformat": 4,
 "nbformat_minor": 5
}
