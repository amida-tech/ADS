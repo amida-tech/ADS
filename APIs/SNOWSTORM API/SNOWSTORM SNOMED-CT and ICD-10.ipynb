{
 "cells": [
  {
   "cell_type": "markdown",
   "id": "feb2314d",
   "metadata": {},
   "source": [
    "# Note\n",
    "It is not recommended to use this script. SNOWSTORM has a limited number of calls it allows each day.  It is recommended you use the UMLS API search.\n",
    "\n",
    "# SNOMED-CT and ICD-10 Diagnosis Quick Pull \n",
    "This document will pull all the descendants of a given parent concept(s), search all results from a given search_name, pull all existing ICD-10 codes from the SNOMED-CT codes gathered, and export them as an excel file.\n",
    "\n",
    "This script is very thorough and will frequently return more codes than required.  Some codes returned may not be directly relevant to the diagnosis.  It is recommended that the analyst reviews the data returned for accuracy concerning their specific diagnosis.\n",
    "\n",
    "The ICD-10 codes returned will have have N/A as a name listed next to them.  It is recommended that the returned ICD-10 codes are manually checked for relevance and updated with their official ICD-10 names. \n",
    "\n",
    "Additional Note: This works well for small pulls.  Pulls with outputs larger than 500, tend to timeout.  It is recommended to use the UMLS Script for pulls larger than 500 rows. \n",
    "\n",
    "## Variable Explanations ##\n",
    "- parent_code\n",
    "    - This must be inputted as a Python dictionary (JavaScript object).  Below is an example of proper structure: \n",
    "    - {\"Name of SNOMED-CT Value 1\": 123456, \"Name of SNOMED-CT Value 2\": 456789123, \"Name of SNOMED-CT Value 3\": 123789}\n",
    "    - This variable is responsible for finding the descendants of the parent concepts.  The values placed here will return all descendents of the pairs that you put in the dictionary.  Repeats will be deleted. \n",
    "\n",
    "- Excel_Sheet_Name\n",
    "    - This must be inputted as a string.  A string is required to have quotations around the text: \"Apple\", \"Orange\", and \"Fruit\" are examples of strings. \n",
    "    - This variable is responsible for naming the final exported Excel Sheet.\n",
    "    - Note that the excel sheet will be exported wherever this python file is saved.  If you do not know where this file is saved on your computer, use your system's search bar to locate the file by the name that you assigned the variable Excel_Sheet_Name\n",
    "\n",
    "- search_name\n",
    "    - This must be inputted as a string. \n",
    "    - This variable is responsible for returning all SNOMED-CT search results from that name. \n",
    "    - For example, if you went to the SNOMED-CT Browser and searched \"Asthma\", you may get \"Asthma (disorder)\", \"Asthma annual review (regime/therapy)\", \"Asthma control step 5 (procedure)\".  \"Asthma annual review (regime/therapy)\" and \"Asthma control step 5 (procedure)\" would not be included in the data collected just from the parent_code variable.  This variable allows  \n",
    "    - SNOMED-CT Browser Link: (https://browser.ihtsdotools.org/?perspective=full&conceptId1=78862003&edition=MAIN/2022-08-31&release=&languages=en&latestRedirect=false) \n",
    " \n",
    "\n",
    "## Notes and Limitations  \n",
    "- If you do not change the Excel_Sheet_Name variable and attempt to run the code again, the code will rewrite your existing file with the parent_code variables\n",
    "- This will return more codes than required.  Some codes returned may not be directly relevant to the diagnosis.  It is recommended that the analyst throughly reviews the data returned.\n",
    "- The ICD-10 codes returned will have have N/A as a name listed next to them.  It is recommended that the returned ICD-10 codes are manually checked for relevance and updated with their official ICD-10 names.  \n",
    "\n",
    "## Common Errors\n",
    "- If you recieve a KeyError when calling the data (running the large loop code), check your parent_code variable's structure.  \n",
    "    - This error is most likely due to an error in how the values are inputted into the parent_code variable\n",
    "    - If the error persists, add each parent:code pair individually and try calling the data (running the large loop code).  This will narrow down which parent:code pair is causing the issue or help identify any syntax issues with the parent_code variable. \n",
    "    - If one parent:code is causing the error to continue, I recommend trying to pull for just that parent:code, searching an adjacent parent:code that includes the originally desired parent:code, or manually pulling the codes from the SNOMED-CT browser. \n",
    "    \n",
    "- If you recieve a ConnectionError, you have made too many calls to the API and must wait ~24 hours before making another call. \n",
    "    - If you consistently recieve this error, check the parent_code variable for any big overlaps between parent:child relations. For example: if the two parents you are looking up are 'Pneumonitis (disorder)' and 'Pnuemonia (disorder)', try inputting only 'Pneumonitis (disorder)' and removing 'Pnuemonia (disorder)' from your search since 'Pnuemonia (disorder)' is a descendent of 'Pneumonitis (disorder)'.\n",
    "       "
   ]
  },
  {
   "cell_type": "code",
   "execution_count": null,
   "id": "b5fe9263",
   "metadata": {},
   "outputs": [],
   "source": [
    "import pandas as pd\n",
    "import numpy as np\n",
    "import json\n",
    "import requests\n",
    "false = False\n",
    "true = True"
   ]
  },
  {
   "cell_type": "code",
   "execution_count": null,
   "id": "c1267de6",
   "metadata": {},
   "outputs": [],
   "source": [
    "# CHANGE THE CODES HERE: \n",
    "parent_code = {\"Pneumonitis (disorder)\": 205237003}\n",
    "\n",
    "## WHAT DO YOU WANT YOUR EXCEL SHEET NAMED? ##\n",
    "Excel_Sheet_Name = \"Pneumonitis Codes\"\n",
    "\n",
    "### What name do you want to do a general search by? ###\n",
    "## This pulls all results as if you were to type in \"Asthma\" for example, all search results would be returned ##\n",
    "search_name = \"Pneumonitis\""
   ]
  },
  {
   "cell_type": "code",
   "execution_count": null,
   "id": "e498de4a",
   "metadata": {},
   "outputs": [],
   "source": [
    "#### DO NOT CHANGE BELOW THIS LINE ####\n",
    "\n",
    "empty_pd_formatted = pd.DataFrame()\n",
    "test_codes = []\n",
    "test_values = []\n",
    "    \n",
    "for key in parent_code: \n",
    "# This collects the JSON for each value in parent_code \n",
    "    URL = f\"https://snowstorm-training.snomedtools.org/fhir/ValueSet/$expand?url=http://snomed.info/sct?fhir_vs=ecl/<<{parent_code[key]}\"\n",
    "    response = requests.get(URL)\n",
    "    variable = response.json()\n",
    "\n",
    "    for code in np.arange(0, len(variable[\"expansion\"][\"contains\"]), 1):\n",
    "        codes = variable[\"expansion\"][\"contains\"][code][\"code\"]\n",
    "        test_codes.append(codes)\n",
    "\n",
    "    for code in np.arange(0, len(variable[\"expansion\"][\"contains\"]), 1):\n",
    "        name = variable[\"expansion\"][\"contains\"][code][\"display\"]\n",
    "        test_values.append(name)  \n",
    "        \n",
    "# This is where the dataframe stores the previous pandas dataframe iterations     \n",
    "new_new_row = pd.DataFrame({\"Data Concept\": \"Diagnosis Code\", \"Data Sub-Concept\": \"N/A\", \"Coding Standard\": \"SNOMED-CT\", \"Code Value\": test_codes, \"Code Description\": test_values})\n",
    "empty_pd_new = pd.concat([new_new_row, empty_pd_formatted.loc[:]]).reset_index(drop=True)"
   ]
  },
  {
   "cell_type": "code",
   "execution_count": null,
   "id": "dd1f69e4",
   "metadata": {},
   "outputs": [],
   "source": [
    "## This pulls all the search_name results ##\n",
    "\n",
    "URL = f\"https://snowstorm-training.snomedtools.org/fhir/ValueSet/$expand?url=http://snomed.info/sct?fhir_vs&filter={search_name}\"\n",
    "\n",
    "response = requests.get(URL)\n",
    "\n",
    "variable = response.json()\n",
    "\n",
    "test_codes = []\n",
    "test_values = []\n",
    "\n",
    "for code in np.arange(0, len(variable[\"expansion\"][\"contains\"]), 1):\n",
    "    codes = variable[\"expansion\"][\"contains\"][code][\"code\"]\n",
    "    test_codes.append(codes)\n",
    "    \n",
    "for code in np.arange(0, len(variable[\"expansion\"][\"contains\"]), 1):\n",
    "    name = variable[\"expansion\"][\"contains\"][code][\"display\"]\n",
    "    test_values.append(name)\n",
    "\n",
    "test_table = {\"Data Concept\": \"Diagnosis Code\", \"Data Sub-Concept\": \"N/A\", \"Coding Standard\": \"SNOMED-CT\", \"Code Value\": test_codes, \"Code Description\": test_values}\n",
    "\n",
    "test_pandas_table = pd.DataFrame(test_table)\n",
    "\n",
    "general_and_subset_request_pandas = pd.concat([empty_pd_new, test_pandas_table.loc[:]]).reset_index(drop=True)"
   ]
  },
  {
   "cell_type": "code",
   "execution_count": null,
   "id": "c0c114fd",
   "metadata": {},
   "outputs": [],
   "source": [
    "general_and_subset_request_df = general_and_subset_request_pandas.drop_duplicates(keep=\"first\")\n",
    "general_and_subset_request_df_clean = general_and_subset_request_df.reset_index(drop=True)\n",
    "general_and_subset_request_df_clean"
   ]
  },
  {
   "cell_type": "code",
   "execution_count": null,
   "id": "e274cfdb",
   "metadata": {},
   "outputs": [],
   "source": [
    "empty_list_for_ICD_codes = []\n",
    "    \n",
    "for x in np.arange(0,len(general_and_subset_request_df_clean[\"Code Value\"]), 1): \n",
    "    codes = int(general_and_subset_request_df_clean[\"Code Value\"][x])\n",
    "    URL = f\"https://snowstorm-training.snomedtools.org/fhir/ConceptMap/$translate?code={codes}&system=http://snomed.info/sct&source=http://snomed.info/sct?fhir_vs&target=http://hl7.org/fhir/sid/icd-10&url=http://snomed.info/sct/900000000000207008/version/20200131?fhir_cm=447562003\"\n",
    "    response = requests.get(URL)\n",
    "    variable = response.json()\n",
    "    if 'code' in variable: \n",
    "        for each in np.arange(0, len(variable['parameter'][1]['part']), 1):\n",
    "            empty_list_for_ICD_codes.append(variable['parameter'][1]['part'][each]['valueCoding']['code'])   \n",
    "    else:\n",
    "        continue\n",
    "\n",
    "test_ICD10_table = {\"Data Concept\": \"Diagnosis Code\", \"Data Sub-Concept\": \"N/A\", \"Coding Standard\": \"ICD-10\", \"Code Value\": empty_list_for_ICD_codes, \"Code Description\": \"N/A\"}\n",
    "\n",
    "test_pandas_ICD10__table = pd.DataFrame(test_ICD10_table)\n",
    "\n",
    "total_ICD10_SNOMED_pandas = pd.concat([general_and_subset_request_df_clean, test_pandas_ICD10__table.loc[:]]).reset_index(drop=True)"
   ]
  },
  {
   "cell_type": "code",
   "execution_count": null,
   "id": "08cb6a8c",
   "metadata": {},
   "outputs": [],
   "source": [
    "total_ICD10_SNOMED_pandas_no_duplicates = total_ICD10_SNOMED_pandas.drop_duplicates(keep=\"first\")\n",
    "total_ICD10_SNOMED = total_ICD10_SNOMED_pandas_no_duplicates.reset_index(drop=True)"
   ]
  },
  {
   "cell_type": "code",
   "execution_count": null,
   "id": "cd06471b",
   "metadata": {},
   "outputs": [],
   "source": [
    "#### DO NOT CHANGE BELOW THIS LINE ####\n",
    "\n",
    "excel_name = f'{Excel_Sheet_Name}' + \".xlsx\"\n",
    "\n",
    "total_ICD10_SNOMED.to_excel(excel_name)\n",
    "\n",
    "#### DO NOT CHANGE ABOVE THIS LINE ####"
   ]
  },
  {
   "cell_type": "code",
   "execution_count": null,
   "id": "8bd9520e",
   "metadata": {},
   "outputs": [],
   "source": []
  }
 ],
 "metadata": {
  "kernelspec": {
   "display_name": "Python 3 (ipykernel)",
   "language": "python",
   "name": "python3"
  },
  "language_info": {
   "codemirror_mode": {
    "name": "ipython",
    "version": 3
   },
   "file_extension": ".py",
   "mimetype": "text/x-python",
   "name": "python",
   "nbconvert_exporter": "python",
   "pygments_lexer": "ipython3",
   "version": "3.9.12"
  }
 },
 "nbformat": 4,
 "nbformat_minor": 5
}
