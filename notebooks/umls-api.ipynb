{
 "cells": [
  {
   "cell_type": "markdown",
   "id": "8bda84f0-3d69-4e71-8338-8a28368f8942",
   "metadata": {},
   "source": [
    " # NLM requires that users send no more than 20 requests per second per IP address."
   ]
  },
  {
   "cell_type": "code",
   "execution_count": 1,
   "id": "b4315ae5-384b-4f95-b0bd-ecb29e6594b0",
   "metadata": {},
   "outputs": [],
   "source": [
    "import os\n",
    "import requests\n",
    "import time"
   ]
  },
  {
   "cell_type": "code",
   "execution_count": 35,
   "id": "5ec387ae-87f6-4699-a63e-e5af8b1a8ae1",
   "metadata": {},
   "outputs": [],
   "source": [
    "def call_umls(cui):\n",
    "\n",
    "    return items['result']['results']\n",
    "    "
   ]
  },
  {
   "cell_type": "code",
   "execution_count": 36,
   "id": "ef7dfa0f-00d6-4e59-a9e7-36508f35a9f7",
   "metadata": {},
   "outputs": [
    {
     "name": "stdout",
     "output_type": "stream",
     "text": [
      "199\n"
     ]
    }
   ],
   "source": [
    "gold_shareclef2013 = \"../eval/CLEFPIPEDELIMITED NoDuplicates 3:7:2013\"\n",
    "list_files = []\n",
    "for filename in os.listdir(gold_shareclef2013):\n",
    "    f = os.path.join(gold_shareclef2013, filename)\n",
    "    # checking if it is a file\n",
    "    if os.path.isfile(f):\n",
    "        list_files.append(f)\n",
    "print(len(list_files))"
   ]
  },
  {
   "cell_type": "code",
   "execution_count": 37,
   "id": "bb7593a1-6a38-448e-8aa8-72ba8f5853bb",
   "metadata": {},
   "outputs": [
    {
     "name": "stdout",
     "output_type": "stream",
     "text": [
      "{'CUI-less': [], 'C0038454': [], 'C0016522': [], 'C0011570': [], 'C0042109': [], 'C0232201': [], 'C0037284': [], 'C0035508': [], 'C0034642': [], 'C0010520': [], 'C0149651': [], 'C0013604': [], 'C0042345': [], 'C0018817': [], 'C0030193': [], 'C0241374': [], 'C2242996': [], 'C0262469': [], 'C0344232': [], 'C0019080': [], 'C0264978': [], 'C0333557': [], 'C0021308': [], 'C0027765': [], 'C0085649': [], 'C0010709': [], 'C0035317': []}\n",
      "../eval/CLEFPIPEDELIMITED NoDuplicates 3:7:2013/20038-028322-DISCHARGE_SUMMARY.pipe.txt\n"
     ]
    }
   ],
   "source": [
    "cui_dict = {}\n",
    "for i, document in enumerate(readfile(list_files[5])):\n",
    "        row = document.split(\"||\")\n",
    "        cui_dict.update({\n",
    "            row[2] : []\n",
    "        })\n",
    "print(cui_dict)\n",
    "print(list_files[5])"
   ]
  },
  {
   "cell_type": "code",
   "execution_count": null,
   "id": "1eebec86-5720-4144-b790-d6c43c14c051",
   "metadata": {},
   "outputs": [],
   "source": [
    "for cui in cui_dict.keys():\n",
    "    print(cui)\n",
    "    time.sleep(1)\n",
    "    \n",
    "    apikey = \"\"\n",
    "    version = \"current\"\n",
    "    uri = 'https://uts-ws.nlm.nih.gov'\n",
    "    search_endpoint = '/rest/search/'+str(version)+'?string='+str(cui)+ '&sabs=SNOMEDCT_US&returnIdType=code'\n",
    "    \n",
    "    query = {'apiKey':apikey}\n",
    "    r = requests.get(uri+search_endpoint, params=query)\n",
    "    r.encoding = 'utf-8'\n",
    "    \n",
    "    items  = r.json()\n",
    "    print(items['result']['results'])\n",
    "    cui_dict.update({\n",
    "        cui:items['result']['results']\n",
    "    })"
   ]
  },
  {
   "cell_type": "code",
   "execution_count": 51,
   "id": "1bdeb2e7-9c5c-477f-8fa8-57c877216cf1",
   "metadata": {},
   "outputs": [
    {
     "data": {
      "text/plain": [
       "{'CUI-less': [],\n",
       " 'C0038454': [{'ui': '230690007',\n",
       "   'rootSource': 'SNOMEDCT_US',\n",
       "   'uri': 'https://uts-ws.nlm.nih.gov/rest/content/2023AB/source/SNOMEDCT_US/230690007',\n",
       "   'name': 'Cerebrovascular accident'}],\n",
       " 'C0016522': [{'ui': '204317008',\n",
       "   'rootSource': 'SNOMEDCT_US',\n",
       "   'uri': 'https://uts-ws.nlm.nih.gov/rest/content/2023AB/source/SNOMEDCT_US/204317008',\n",
       "   'name': 'Patent foramen ovale'}],\n",
       " 'C0011570': [],\n",
       " 'C0042109': [{'ui': '126485001',\n",
       "   'rootSource': 'SNOMEDCT_US',\n",
       "   'uri': 'https://uts-ws.nlm.nih.gov/rest/content/2023AB/source/SNOMEDCT_US/126485001',\n",
       "   'name': 'Urticaria'},\n",
       "  {'ui': '64305001',\n",
       "   'rootSource': 'SNOMEDCT_US',\n",
       "   'uri': 'https://uts-ws.nlm.nih.gov/rest/content/2023AB/source/SNOMEDCT_US/64305001',\n",
       "   'name': 'Urticaria'},\n",
       "  {'ui': '247472004',\n",
       "   'rootSource': 'SNOMEDCT_US',\n",
       "   'uri': 'https://uts-ws.nlm.nih.gov/rest/content/2023AB/source/SNOMEDCT_US/247472004',\n",
       "   'name': 'Wheal'}],\n",
       " 'C0232201': [{'ui': '251150006',\n",
       "   'rootSource': 'SNOMEDCT_US',\n",
       "   'uri': 'https://uts-ws.nlm.nih.gov/rest/content/2023AB/source/SNOMEDCT_US/251150006',\n",
       "   'name': 'Sinus rhythm'},\n",
       "  {'ui': '106067008',\n",
       "   'rootSource': 'SNOMEDCT_US',\n",
       "   'uri': 'https://uts-ws.nlm.nih.gov/rest/content/2023AB/source/SNOMEDCT_US/106067008',\n",
       "   'name': 'Sinus node rhythm'}],\n",
       " 'C0037284': [{'ui': '95324001',\n",
       "   'rootSource': 'SNOMEDCT_US',\n",
       "   'uri': 'https://uts-ws.nlm.nih.gov/rest/content/2023AB/source/SNOMEDCT_US/95324001',\n",
       "   'name': 'Skin lesion'}],\n",
       " 'C0035508': [{'ui': '24612001',\n",
       "   'rootSource': 'SNOMEDCT_US',\n",
       "   'uri': 'https://uts-ws.nlm.nih.gov/rest/content/2023AB/source/SNOMEDCT_US/24612001',\n",
       "   'name': 'Wheeze - rhonchi'}],\n",
       " 'C0034642': [{'ui': '48409008',\n",
       "   'rootSource': 'SNOMEDCT_US',\n",
       "   'uri': 'https://uts-ws.nlm.nih.gov/rest/content/2023AB/source/SNOMEDCT_US/48409008',\n",
       "   'name': 'Respiratory crackles'}],\n",
       " 'C0010520': [{'ui': '3415004',\n",
       "   'rootSource': 'SNOMEDCT_US',\n",
       "   'uri': 'https://uts-ws.nlm.nih.gov/rest/content/2023AB/source/SNOMEDCT_US/3415004',\n",
       "   'name': 'Cyanosis'},\n",
       "  {'ui': '119419001',\n",
       "   'rootSource': 'SNOMEDCT_US',\n",
       "   'uri': 'https://uts-ws.nlm.nih.gov/rest/content/2023AB/source/SNOMEDCT_US/119419001',\n",
       "   'name': 'Cyanosis of skin'}],\n",
       " 'C0149651': [{'ui': '367004',\n",
       "   'rootSource': 'SNOMEDCT_US',\n",
       "   'uri': 'https://uts-ws.nlm.nih.gov/rest/content/2023AB/source/SNOMEDCT_US/367004',\n",
       "   'name': 'Clubbing'}],\n",
       " 'C0013604': [{'ui': '267038008',\n",
       "   'rootSource': 'SNOMEDCT_US',\n",
       "   'uri': 'https://uts-ws.nlm.nih.gov/rest/content/2023AB/source/SNOMEDCT_US/267038008',\n",
       "   'name': 'Edema'},\n",
       "  {'ui': '79654002',\n",
       "   'rootSource': 'SNOMEDCT_US',\n",
       "   'uri': 'https://uts-ws.nlm.nih.gov/rest/content/2023AB/source/SNOMEDCT_US/79654002',\n",
       "   'name': 'Edema'},\n",
       "  {'ui': '20741006',\n",
       "   'rootSource': 'SNOMEDCT_US',\n",
       "   'uri': 'https://uts-ws.nlm.nih.gov/rest/content/2023AB/source/SNOMEDCT_US/20741006',\n",
       "   'name': 'Hydrops'}],\n",
       " 'C0042345': [{'ui': '399989005',\n",
       "   'rootSource': 'SNOMEDCT_US',\n",
       "   'uri': 'https://uts-ws.nlm.nih.gov/rest/content/2023AB/source/SNOMEDCT_US/399989005',\n",
       "   'name': 'Phlebectasia'},\n",
       "  {'ui': '128060009',\n",
       "   'rootSource': 'SNOMEDCT_US',\n",
       "   'uri': 'https://uts-ws.nlm.nih.gov/rest/content/2023AB/source/SNOMEDCT_US/128060009',\n",
       "   'name': 'Venous varices'},\n",
       "  {'ui': '12856003',\n",
       "   'rootSource': 'SNOMEDCT_US',\n",
       "   'uri': 'https://uts-ws.nlm.nih.gov/rest/content/2023AB/source/SNOMEDCT_US/12856003',\n",
       "   'name': 'Varix'}],\n",
       " 'C0018817': [{'ui': '253366007',\n",
       "   'rootSource': 'SNOMEDCT_US',\n",
       "   'uri': 'https://uts-ws.nlm.nih.gov/rest/content/2023AB/source/SNOMEDCT_US/253366007',\n",
       "   'name': 'Interauricular septal defect'},\n",
       "  {'ui': '405752007',\n",
       "   'rootSource': 'SNOMEDCT_US',\n",
       "   'uri': 'https://uts-ws.nlm.nih.gov/rest/content/2023AB/source/SNOMEDCT_US/405752007',\n",
       "   'name': 'Congenital atrial septal defect'},\n",
       "  {'ui': '70142008',\n",
       "   'rootSource': 'SNOMEDCT_US',\n",
       "   'uri': 'https://uts-ws.nlm.nih.gov/rest/content/2023AB/source/SNOMEDCT_US/70142008',\n",
       "   'name': 'Atrial septal defect'}],\n",
       " 'C0030193': [{'ui': '22253000',\n",
       "   'rootSource': 'SNOMEDCT_US',\n",
       "   'uri': 'https://uts-ws.nlm.nih.gov/rest/content/2023AB/source/SNOMEDCT_US/22253000',\n",
       "   'name': 'Pain'}],\n",
       " 'C0241374': [{'ui': '78514002',\n",
       "   'rootSource': 'SNOMEDCT_US',\n",
       "   'uri': 'https://uts-ws.nlm.nih.gov/rest/content/2023AB/source/SNOMEDCT_US/78514002',\n",
       "   'name': 'Thigh pain'}],\n",
       " 'C2242996': [{'ui': '62507009',\n",
       "   'rootSource': 'SNOMEDCT_US',\n",
       "   'uri': 'https://uts-ws.nlm.nih.gov/rest/content/2023AB/source/SNOMEDCT_US/62507009',\n",
       "   'name': 'Pins and needles'}],\n",
       " 'C0262469': [{'ui': '371041009',\n",
       "   'rootSource': 'SNOMEDCT_US',\n",
       "   'uri': 'https://uts-ws.nlm.nih.gov/rest/content/2023AB/source/SNOMEDCT_US/371041009',\n",
       "   'name': 'Embolic stroke'}],\n",
       " 'C0344232': [{'ui': '246636008',\n",
       "   'rootSource': 'SNOMEDCT_US',\n",
       "   'uri': 'https://uts-ws.nlm.nih.gov/rest/content/2023AB/source/SNOMEDCT_US/246636008',\n",
       "   'name': 'Hazy vision'},\n",
       "  {'ui': '111516008',\n",
       "   'rootSource': 'SNOMEDCT_US',\n",
       "   'uri': 'https://uts-ws.nlm.nih.gov/rest/content/2023AB/source/SNOMEDCT_US/111516008',\n",
       "   'name': 'Blurring of visual image'}],\n",
       " 'C0019080': [{'ui': '50960005',\n",
       "   'rootSource': 'SNOMEDCT_US',\n",
       "   'uri': 'https://uts-ws.nlm.nih.gov/rest/content/2023AB/source/SNOMEDCT_US/50960005',\n",
       "   'name': 'Hemorrhage'},\n",
       "  {'ui': '131148009',\n",
       "   'rootSource': 'SNOMEDCT_US',\n",
       "   'uri': 'https://uts-ws.nlm.nih.gov/rest/content/2023AB/source/SNOMEDCT_US/131148009',\n",
       "   'name': 'Bleeding'}],\n",
       " 'C0264978': [{'ui': '37906005',\n",
       "   'rootSource': 'SNOMEDCT_US',\n",
       "   'uri': 'https://uts-ws.nlm.nih.gov/rest/content/2023AB/source/SNOMEDCT_US/37906005',\n",
       "   'name': 'Embolic infarction'}],\n",
       " 'C0333557': [{'ui': '47559000',\n",
       "   'rootSource': 'SNOMEDCT_US',\n",
       "   'uri': 'https://uts-ws.nlm.nih.gov/rest/content/2023AB/source/SNOMEDCT_US/47559000',\n",
       "   'name': 'Watershed infarct'}],\n",
       " 'C0021308': [{'ui': '55641003',\n",
       "   'rootSource': 'SNOMEDCT_US',\n",
       "   'uri': 'https://uts-ws.nlm.nih.gov/rest/content/2023AB/source/SNOMEDCT_US/55641003',\n",
       "   'name': 'Infarct'}],\n",
       " 'C0027765': [{'ui': '118940003',\n",
       "   'rootSource': 'SNOMEDCT_US',\n",
       "   'uri': 'https://uts-ws.nlm.nih.gov/rest/content/2023AB/source/SNOMEDCT_US/118940003',\n",
       "   'name': 'Disorder of nervous system'}],\n",
       " 'C0085649': [{'ui': '271809000',\n",
       "   'rootSource': 'SNOMEDCT_US',\n",
       "   'uri': 'https://uts-ws.nlm.nih.gov/rest/content/2023AB/source/SNOMEDCT_US/271809000',\n",
       "   'name': 'Peripheral edema'},\n",
       "  {'ui': '82014009',\n",
       "   'rootSource': 'SNOMEDCT_US',\n",
       "   'uri': 'https://uts-ws.nlm.nih.gov/rest/content/2023AB/source/SNOMEDCT_US/82014009',\n",
       "   'name': 'Peripheral edema'},\n",
       "  {'ui': '424372002',\n",
       "   'rootSource': 'SNOMEDCT_US',\n",
       "   'uri': 'https://uts-ws.nlm.nih.gov/rest/content/2023AB/source/SNOMEDCT_US/424372002',\n",
       "   'name': 'Edema of extremity'}],\n",
       " 'C0010709': [{'ui': '441457006',\n",
       "   'rootSource': 'SNOMEDCT_US',\n",
       "   'uri': 'https://uts-ws.nlm.nih.gov/rest/content/2023AB/source/SNOMEDCT_US/441457006',\n",
       "   'name': 'Cyst'},\n",
       "  {'ui': '367643001',\n",
       "   'rootSource': 'SNOMEDCT_US',\n",
       "   'uri': 'https://uts-ws.nlm.nih.gov/rest/content/2023AB/source/SNOMEDCT_US/367643001',\n",
       "   'name': 'Cyst'}],\n",
       " 'C0035317': [{'ui': '28998008',\n",
       "   'rootSource': 'SNOMEDCT_US',\n",
       "   'uri': 'https://uts-ws.nlm.nih.gov/rest/content/2023AB/source/SNOMEDCT_US/28998008',\n",
       "   'name': 'Retinal hemorrhage'}]}"
      ]
     },
     "execution_count": 51,
     "metadata": {},
     "output_type": "execute_result"
    }
   ],
   "source": [
    "cui_dict"
   ]
  },
  {
   "cell_type": "code",
   "execution_count": 68,
   "id": "0b3aa4dd-3144-4159-9366-b870b53c2355",
   "metadata": {},
   "outputs": [
    {
     "name": "stdout",
     "output_type": "stream",
     "text": [
      "{'pageSize': 25, 'pageNumber': 1, 'pageCount': 1, 'result': []}\n"
     ]
    }
   ],
   "source": [
    "\n",
    "apikey = \"6f43aedc-8bc5-4e20-b662-4bd245f2bcec\"\n",
    "version = \"current\"\n",
    "uri = 'https://uts-ws.nlm.nih.gov'\n",
    "crosswalk_endpoint = '/rest/crosswalk/current/source/ICD11/6B40?targetSource=SNOMEDCT_US'\n",
    "\n",
    "query = {'apiKey':apikey}\n",
    "r = requests.get(uri+crosswalk_endpoint, params=query)\n",
    "r.encoding = 'utf-8'\n",
    "\n",
    "items  = r.json()\n",
    "print(items)"
   ]
  },
  {
   "cell_type": "code",
   "execution_count": 69,
   "id": "3cdc844e-ed4f-4408-8dba-1d8bb97ab943",
   "metadata": {},
   "outputs": [
    {
     "ename": "IndexError",
     "evalue": "list index out of range",
     "output_type": "error",
     "traceback": [
      "\u001b[0;31m---------------------------------------------------------------------------\u001b[0m",
      "\u001b[0;31mIndexError\u001b[0m                                Traceback (most recent call last)",
      "Cell \u001b[0;32mIn[69], line 1\u001b[0m\n\u001b[0;32m----> 1\u001b[0m \u001b[38;5;28mprint\u001b[39m(\u001b[43mitems\u001b[49m\u001b[43m[\u001b[49m\u001b[38;5;124;43m'\u001b[39;49m\u001b[38;5;124;43mresult\u001b[39;49m\u001b[38;5;124;43m'\u001b[39;49m\u001b[43m]\u001b[49m\u001b[43m[\u001b[49m\u001b[38;5;241;43m0\u001b[39;49m\u001b[43m]\u001b[49m[\u001b[38;5;124m'\u001b[39m\u001b[38;5;124mui\u001b[39m\u001b[38;5;124m'\u001b[39m])\n",
      "\u001b[0;31mIndexError\u001b[0m: list index out of range"
     ]
    }
   ],
   "source": [
    "print(items['result'][0]['ui'])"
   ]
  },
  {
   "cell_type": "code",
   "execution_count": 70,
   "id": "7620d807-f833-49e1-9413-ca9eed88769a",
   "metadata": {},
   "outputs": [
    {
     "data": {
      "text/plain": [
       "['Essential hypertension',\n",
       " 'Essential hypertension',\n",
       " 'Essential hypertension (disorder)']"
      ]
     },
     "execution_count": 70,
     "metadata": {},
     "output_type": "execute_result"
    }
   ],
   "source": [
    "['Essential hypertension', 'Essential hypertension', 'Essential hypertension (disorder)']"
   ]
  },
  {
   "cell_type": "code",
   "execution_count": null,
   "id": "4d154f57-7755-4a99-80bd-0261b5678b84",
   "metadata": {},
   "outputs": [],
   "source": []
  }
 ],
 "metadata": {
  "kernelspec": {
   "display_name": "Python 3 (ipykernel)",
   "language": "python",
   "name": "python3"
  },
  "language_info": {
   "codemirror_mode": {
    "name": "ipython",
    "version": 3
   },
   "file_extension": ".py",
   "mimetype": "text/x-python",
   "name": "python",
   "nbconvert_exporter": "python",
   "pygments_lexer": "ipython3",
   "version": "3.9.17"
  }
 },
 "nbformat": 4,
 "nbformat_minor": 5
}
