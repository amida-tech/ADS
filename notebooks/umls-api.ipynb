{
 "cells": [
  {
   "cell_type": "code",
   "execution_count": null,
   "id": "b4315ae5-384b-4f95-b0bd-ecb29e6594b0",
   "metadata": {},
   "outputs": [],
   "source": [
    "import os\n",
    "import requests\n",
    "import time"
   ]
  },
  {
   "cell_type": "markdown",
   "id": "af883049-4317-4fd4-98fc-4cd2da1234ad",
   "metadata": {},
   "source": [
    "# Setup the apikey and other variables that will stay the same for each endpoint\n",
    "### Reference documentation https://documentation.uts.nlm.nih.gov/rest/home.html"
   ]
  },
  {
   "cell_type": "code",
   "execution_count": null,
   "id": "651307b3-0f87-408d-854c-ac8c71190772",
   "metadata": {},
   "outputs": [],
   "source": [
    "apikey = \"\"\n",
    "uri = 'https://uts-ws.nlm.nih.gov'"
   ]
  },
  {
   "cell_type": "markdown",
   "id": "03b25fe9-9e00-40ea-ac5e-7e0bc4347bf5",
   "metadata": {},
   "source": [
    "## Give the API an ICD code and get back SNOMED codes using the Crosswalk endpoint\n",
    "### https://documentation.uts.nlm.nih.gov/rest/source-asserted-identifiers/crosswalk/#uris"
   ]
  },
  {
   "cell_type": "code",
   "execution_count": null,
   "id": "0b3aa4dd-3144-4159-9366-b870b53c2355",
   "metadata": {},
   "outputs": [],
   "source": [
    "\n",
    "crosswalk_endpoint = '/rest/crosswalk/current/source/ICD11/6B40?targetSource=SNOMEDCT_US'\n",
    "\n",
    "query = {'apiKey':apikey}\n",
    "r = requests.get(uri+crosswalk_endpoint, params=query)\n",
    "r.encoding = 'utf-8'\n",
    "\n",
    "items  = r.json()\n",
    "print(json.dumps(items, indent=2))"
   ]
  },
  {
   "cell_type": "markdown",
   "id": "70e80f88-6bb0-463f-ac4d-05889d10ef73",
   "metadata": {},
   "source": [
    "## Search UMLS API with a string and get back SNOMED codes\n",
    "### https://documentation.uts.nlm.nih.gov/rest/source-asserted-identifiers/crosswalk/#uris"
   ]
  },
  {
   "cell_type": "markdown",
   "id": "cce4ddf5-8f02-4a65-8cdf-85069ac5216e",
   "metadata": {},
   "source": [
    "More documentation about the search endpoint, such as the source assertion ('sabs' parameter) and return type: https://documentation.uts.nlm.nih.gov/rest/rest-api-cookbook/search-terms-from-vocabularies.html"
   ]
  },
  {
   "cell_type": "code",
   "execution_count": null,
   "id": "5921f404-3326-4a15-8ce0-dc318f33c07b",
   "metadata": {},
   "outputs": [],
   "source": [
    "\n",
    "search_endpoint = '/search/current?string=fracture of carpal bone&sabs=SNOMEDCT_US&returnIdType=code'\n",
    "\n",
    "query = {'apiKey':apikey}\n",
    "r = requests.get(uri+search_endpoint, params=query)\n",
    "r.encoding = 'utf-8'\n",
    "\n",
    "items  = r.json()\n",
    "print(json.dumps(items, indent=2))"
   ]
  }
 ],
 "metadata": {
  "kernelspec": {
   "display_name": "Python 3 (ipykernel)",
   "language": "python",
   "name": "python3"
  },
  "language_info": {
   "codemirror_mode": {
    "name": "ipython",
    "version": 3
   },
   "file_extension": ".py",
   "mimetype": "text/x-python",
   "name": "python",
   "nbconvert_exporter": "python",
   "pygments_lexer": "ipython3",
   "version": "3.9.17"
  }
 },
 "nbformat": 4,
 "nbformat_minor": 5
}
